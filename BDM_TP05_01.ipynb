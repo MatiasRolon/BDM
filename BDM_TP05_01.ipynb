{
  "nbformat": 4,
  "nbformat_minor": 0,
  "metadata": {
    "colab": {
      "name": "BDM - TP05-01.ipynb",
      "provenance": [],
      "include_colab_link": true
    },
    "kernelspec": {
      "name": "python3",
      "display_name": "Python 3"
    }
  },
  "cells": [
    {
      "cell_type": "markdown",
      "metadata": {
        "id": "view-in-github",
        "colab_type": "text"
      },
      "source": [
        "<a href=\"https://colab.research.google.com/github/MatiasRolon/BDM/blob/master/BDM_TP05_01.ipynb\" target=\"_parent\"><img src=\"https://colab.research.google.com/assets/colab-badge.svg\" alt=\"Open In Colab\"/></a>"
      ]
    },
    {
      "cell_type": "code",
      "metadata": {
        "id": "wd93LSHioAkR",
        "colab_type": "code",
        "colab": {}
      },
      "source": [
        "\n",
        "#Importamos las librerías que usaremos en todos los puntos.\n",
        "#Ejecutar este codigo antes que cualquier punto.\n",
        "from sklearn.datasets import load_wine\n",
        "from sklearn import tree\n",
        "from sklearn.model_selection import train_test_split\n",
        "from sklearn import metrics\n",
        "from sklearn import preprocessing\n",
        "from sklearn.metrics import precision_recall_fscore_support\n",
        "import graphviz\n",
        "import pandas as pd \n",
        "import numpy as np"
      ],
      "execution_count": 0,
      "outputs": []
    },
    {
      "cell_type": "markdown",
      "metadata": {
        "id": "SkKb70iqs1PR",
        "colab_type": "text"
      },
      "source": [
        "\n",
        "\n",
        "---\n",
        "\n",
        "## PUNTO 1\n",
        "**Consigna:** A partir del dataset presentado a continuación, y teniendo en cuenta las fórmulas de entropía y ganancia de información, calcule y diagrame el árbol de decisión que le permita decidir si comer asado o no en función del clima:"
      ]
    },
    {
      "cell_type": "code",
      "metadata": {
        "id": "RC3Ykk4-tjGT",
        "colab_type": "code",
        "colab": {}
      },
      "source": [
        "!wget https://raw.githubusercontent.com/jumafernandez/BDM/master/TPs/TP05/TP0501/db-asado.xls\n",
        "# Leemos el archivo\n",
        "data1 = pd.read_excel(\"db-asado.xls\") \n",
        "# Preview the first 5 lines of the loaded data \n",
        "data1.head()"
      ],
      "execution_count": 0,
      "outputs": []
    },
    {
      "cell_type": "code",
      "metadata": {
        "id": "cEHed4_wtuY4",
        "colab_type": "code",
        "colab": {}
      },
      "source": [
        "le = preprocessing.LabelEncoder()\n",
        "for column_name in data1.columns:\n",
        "  if (data1[column_name].dtype == object) & (column_name!='ASADO'):\n",
        "    data1[column_name] = le.fit_transform(data1[column_name])\n",
        "    \n",
        "feature_names = list(data1.columns)\n",
        "feature_names.remove('ASADO')\n",
        "x1 = data1[feature_names]\n",
        "y1 = data1.ASADO\n",
        "le.fit(data1['ASADO'])\n",
        "target_names=le.classes_\n",
        "\n",
        "arbol1 = tree.DecisionTreeClassifier(criterion='entropy')\n",
        "arbol1 = arbol1.fit(x1, y1)\n",
        "\n",
        "dot_data = tree.export_graphviz(arbol1, out_file=None,\n",
        "                                feature_names=feature_names,\n",
        "                                class_names=target_names,\n",
        "                                label='all',\n",
        "                                filled=True, rounded=True,\n",
        "                                special_characters=True)  \n",
        "\n",
        "# Capturo el source\n",
        "graph = graphviz.Source(dot_data)\n",
        "# Muestro el contenido de graph\n",
        "graph"
      ],
      "execution_count": 0,
      "outputs": []
    },
    {
      "cell_type": "markdown",
      "metadata": {
        "id": "ta1HawSeKUI6",
        "colab_type": "text"
      },
      "source": [
        "\n",
        "\n",
        "---\n",
        "\n",
        "\n",
        "## PUNTO 2\n",
        "**Consigna: Trabaje con el dataset de Scikit Learn “wine”:**"
      ]
    },
    {
      "cell_type": "code",
      "metadata": {
        "id": "OxuESPLI7uuo",
        "colab_type": "code",
        "colab": {}
      },
      "source": [
        "\n",
        "wine= load_wine()\n",
        "# lo visualizamos\n",
        "print(wine.DESCR)"
      ],
      "execution_count": 0,
      "outputs": []
    },
    {
      "cell_type": "markdown",
      "metadata": {
        "id": "liHicXCmKvX0",
        "colab_type": "text"
      },
      "source": [
        "**2.a Utilice el metadata que provee la librería, ¿Cuál es el tema que\n",
        "aborda el dataset?**\n",
        "\n",
        "El dataset aborda las caracteristicas de distintos tipos de vinos, como por ejemplo su alcalinidad, acido malico, fenoles, su color, tono etc."
      ]
    },
    {
      "cell_type": "markdown",
      "metadata": {
        "id": "Cr0SjxCVMk2k",
        "colab_type": "text"
      },
      "source": [
        "**2.b Genere el árbol de decisión que permita clasificar los diferentes tipos de vino utilizando un muestreo con proporciones de 80% para entrenamiento y 20% para testeo.**\n",
        "\n",
        "Si no la tenemos instalada, descargamos la libreria para graficar el arbol."
      ]
    },
    {
      "cell_type": "code",
      "metadata": {
        "id": "7zxLGcYdKu1C",
        "colab_type": "code",
        "colab": {}
      },
      "source": [
        "!pip install graphviz\n",
        "\n",
        "# Separo en 80-20 entrenamiento y testeo\n",
        "X_train, X_test, y_train, y_test = train_test_split(wine.data, wine.target, random_state=0, test_size=0.2)\n",
        "# Creo el objeto Decision Tree classifer\n",
        "arbol_tt = tree.DecisionTreeClassifier(criterion = \"entropy\")\n",
        "# Entreno el Decision Tree Classifer\n",
        "arbol_tt = arbol_tt.fit(X_train,y_train)\n",
        "#Realizo las predicciones en función del árbol generado\n",
        "y_pred = arbol_tt.predict(X_test)\n",
        "# graficamos el arbol\n",
        "dot_data = tree.export_graphviz(arbol_tt, out_file=None,\n",
        "                                feature_names=wine.feature_names,\n",
        "                                class_names=wine.target_names,\n",
        "                                filled=True, rounded=True,\n",
        "                                special_characters=True)  \n",
        "\n",
        "# Capturo el source\n",
        "graph = graphviz.Source(dot_data)\n",
        "# Muestro el contenido de graph\n",
        "graph"
      ],
      "execution_count": 0,
      "outputs": []
    },
    {
      "cell_type": "markdown",
      "metadata": {
        "id": "5t4iYzZVXBr5",
        "colab_type": "text"
      },
      "source": [
        "**2.c Explore la solución dada y las posibles configuraciones para obtener\n",
        "un nuevo árbol que clasifique “mejor”. Documente las conclusiones.**"
      ]
    },
    {
      "cell_type": "code",
      "metadata": {
        "id": "BEqnUzyebZQT",
        "colab_type": "code",
        "outputId": "8317d895-fe3b-4edb-c9ba-fe51831ce8de",
        "colab": {
          "base_uri": "https://localhost:8080/",
          "height": 34
        }
      },
      "source": [
        "# Vamos a testear el modelo recien hecho.\n",
        "print(\"Accuracy:\",metrics.accuracy_score(y_test, y_pred))"
      ],
      "execution_count": 9,
      "outputs": [
        {
          "output_type": "stream",
          "text": [
            "Accuracy: 0.9444444444444444\n"
          ],
          "name": "stdout"
        }
      ]
    },
    {
      "cell_type": "markdown",
      "metadata": {
        "id": "1Mhhj3-4ccnL",
        "colab_type": "text"
      },
      "source": [
        "Acabamos de ver la precision para el modelo anteriormente planteado. Podemos observar que da un 91.6% de exactitud de tuplas correctamente clasificadas.\n",
        "\n",
        "Para obtener un mejor arbol podemos cambiarle uno de los parametros principales a la hora de hacer el arbol: el criterio. En este caso lo modificaremos para que en vez de ser la Entropía, sea Gini"
      ]
    },
    {
      "cell_type": "code",
      "metadata": {
        "id": "JQ2ACQ-2dQVq",
        "colab_type": "code",
        "outputId": "4d982235-a004-42c3-8c6a-1a8e2001bf2e",
        "colab": {
          "base_uri": "https://localhost:8080/",
          "height": 34
        }
      },
      "source": [
        "X_train, X_test, y_train, y_test = train_test_split(wine.data, wine.target, random_state=0, test_size=0.2)\n",
        "#criterio modificado\n",
        "arbol_tt = tree.DecisionTreeClassifier(criterion = \"gini\")\n",
        "arbol_tt = arbol_tt.fit(X_train,y_train)\n",
        "y_pred = arbol_tt.predict(X_test)\n",
        "# Vamos a testear el modelo\n",
        "print(\"Accuracy:\",metrics.accuracy_score(y_test, y_pred))"
      ],
      "execution_count": 10,
      "outputs": [
        {
          "output_type": "stream",
          "text": [
            "Accuracy: 0.9722222222222222\n"
          ],
          "name": "stdout"
        }
      ]
    },
    {
      "cell_type": "markdown",
      "metadata": {
        "id": "TLmlVrv7nc5A",
        "colab_type": "text"
      },
      "source": [
        "Asi, hemos encontrado una configuración que refleja un mayor porcentaje de exactitud, con el 97.2% de tuplas correctamente clasificadas."
      ]
    },
    {
      "cell_type": "markdown",
      "metadata": {
        "id": "ji0PMH0UnMHJ",
        "colab_type": "text"
      },
      "source": [
        "\n",
        "\n",
        "---\n",
        "\n",
        "\n",
        "## PUNTO 3\n",
        "**Consiga: Ahora, analice el archivo zoo.csv:**"
      ]
    },
    {
      "cell_type": "code",
      "metadata": {
        "id": "L2WOiri3ne0K",
        "colab_type": "code",
        "colab": {}
      },
      "source": [
        "!rm zoo.csv\n",
        "!wget https://raw.githubusercontent.com/jumafernandez/BDM/master/TPs/TP05/TP0501/zoo.csv\n",
        "\n",
        "# Lee el archivo\n",
        "data3 = pd.read_csv(\"zoo.csv\") \n",
        "# Preview the first 5 lines of the loaded data \n",
        "data3.head()"
      ],
      "execution_count": 0,
      "outputs": []
    },
    {
      "cell_type": "markdown",
      "metadata": {
        "id": "VTqDHG6AnQ8C",
        "colab_type": "text"
      },
      "source": [
        "**3 a. Genere el árbol de decisión que permita inferir el tipo de animal en función de sus características. Explique someramente que resultado\n",
        "se obtiene en términos del árbol y en términos de la eficiencia del\n",
        "mismo.**"
      ]
    },
    {
      "cell_type": "code",
      "metadata": {
        "id": "vBZAe1aKZvYu",
        "colab_type": "code",
        "colab": {}
      },
      "source": [
        "le = preprocessing.LabelEncoder()\n",
        "for column_name in data3.columns:\n",
        "  if (data3[column_name].dtype == object) & (column_name!='type'):\n",
        "    data3[column_name] = le.fit_transform(data3[column_name])\n",
        "\n",
        "# Features\n",
        "feature_names = list(data3.columns)\n",
        "# Elimino survived porque es la clase\n",
        "feature_names.remove('type')\n",
        "x3 = data3[feature_names]\n",
        "# Target\n",
        "y3 = data3.type\n",
        "le.fit(data3['type'])\n",
        "target_names=le.classes_\n",
        "#armo el arbol separando en 80-20 entrenamiento y testeo\n",
        "X_train, X_test, y_train, y_test = train_test_split(x3, y3, random_state=0, test_size=0.2)\n",
        "# Creo el objeto Decision Tree classifer\n",
        "arbol3 = tree.DecisionTreeClassifier(criterion = \"entropy\")\n",
        "# Entreno el Decision Tree Classifer\n",
        "arbol3 = arbol3.fit(X_train,y_train)\n",
        "#Realizo las predicciones en función del árbol generado\n",
        "y_pred = arbol3.predict(X_test)\n",
        "# graficamos el arbol\n",
        "dot_data = tree.export_graphviz(arbol3, out_file=None,\n",
        "                                feature_names=feature_names,\n",
        "                                class_names=target_names,\n",
        "                                filled=True, rounded=True,\n",
        "                                special_characters=True)  \n",
        "# Capturo el source\n",
        "graph = graphviz.Source(dot_data)\n",
        "# Muestro el contenido de graph\n",
        "graph"
      ],
      "execution_count": 0,
      "outputs": []
    },
    {
      "cell_type": "code",
      "metadata": {
        "id": "muOBC-qqvcEx",
        "colab_type": "code",
        "outputId": "67167168-ce34-4223-8d7e-eb4b6991b969",
        "colab": {
          "base_uri": "https://localhost:8080/",
          "height": 34
        }
      },
      "source": [
        "# Vamos a testear el modelo\n",
        "print(\"Accuracy:\",metrics.accuracy_score(y_test, y_pred))"
      ],
      "execution_count": 13,
      "outputs": [
        {
          "output_type": "stream",
          "text": [
            "Accuracy: 0.9523809523809523\n"
          ],
          "name": "stdout"
        }
      ]
    },
    {
      "cell_type": "markdown",
      "metadata": {
        "id": "oWedCdvaxi2u",
        "colab_type": "text"
      },
      "source": [
        "Podemos observar que obtenemos un arbol con una precision del 90% de los animales clasificados de forma correcta."
      ]
    },
    {
      "cell_type": "markdown",
      "metadata": {
        "id": "IjBny7aRqGmG",
        "colab_type": "text"
      },
      "source": [
        "**- ¿Varía ese resultado si se elimina el atributo “animal”? ¿Por\n",
        "qué?**"
      ]
    },
    {
      "cell_type": "code",
      "metadata": {
        "id": "q5q5mEPGyLRj",
        "colab_type": "code",
        "outputId": "37da7a0e-7dde-4640-b1fe-156f6517485a",
        "colab": {
          "base_uri": "https://localhost:8080/",
          "height": 34
        }
      },
      "source": [
        "feature_names2 = list(data3.columns)\n",
        "feature_names2.remove('type')\n",
        "#eliminamos el atributo animal\n",
        "feature_names2.remove('animal')\n",
        "x3 = data3[feature_names2]\n",
        "y3 = data3.type\n",
        "le.fit(data3['type'])\n",
        "target_names2=le.classes_\n",
        "\n",
        "X_train, X_test, y_train, y_test = train_test_split(x3, y3, random_state=0, test_size=0.2)\n",
        "arbol3 = tree.DecisionTreeClassifier(criterion = \"entropy\")\n",
        "arbol3 = arbol3.fit(X_train,y_train)\n",
        "y_pred = arbol3.predict(X_test)\n",
        "dot_data = tree.export_graphviz(arbol3, out_file=None,feature_names=feature_names2,class_names=target_names2,filled=True, rounded=True,special_characters=True)  \n",
        "#graph = graphviz.Source(dot_data)\n",
        "#graph\n",
        "print(\"Accuracy:\",metrics.accuracy_score(y_test, y_pred))"
      ],
      "execution_count": 14,
      "outputs": [
        {
          "output_type": "stream",
          "text": [
            "Accuracy: 0.9523809523809523\n"
          ],
          "name": "stdout"
        }
      ]
    },
    {
      "cell_type": "markdown",
      "metadata": {
        "id": "zQFbml4rzQJQ",
        "colab_type": "text"
      },
      "source": [
        "Al imprimir el accuracy vemos que varia mucho al eliminar el atributo indicado, ya que pasa a tener una prediccion de un 5% mas que el anterior.\n"
      ]
    },
    {
      "cell_type": "markdown",
      "metadata": {
        "id": "rrkCQQEXyMgu",
        "colab_type": "text"
      },
      "source": [
        "**- Cuantos niveles posee el árbol generado? ¿Qué atributos\n",
        "debemos modificar si deseamos realizar una poda del mismo?\n",
        "Modifique esos atributos para que el árbol generado conste de\n",
        "4 niveles. ¿Afecta la eficiencia de la clasificación esta\n",
        "modificación?**\n"
      ]
    },
    {
      "cell_type": "code",
      "metadata": {
        "id": "TirZnedK3phX",
        "colab_type": "code",
        "colab": {}
      },
      "source": [
        "\n",
        "# Features\n",
        "feature_names = list(data3.columns)\n",
        "feature_names.remove('type')\n",
        "x3 = data3[feature_names]\n",
        "# Target\n",
        "y3 = data3.type\n",
        "le.fit(data3['type'])\n",
        "target_names=le.classes_\n",
        "#armo el arbol separando en 80-20 entrenamiento y testeo\n",
        "X_train, X_test, y_train, y_test = train_test_split(x3, y3, random_state=0, test_size=0.2)\n",
        "arbol3 = tree.DecisionTreeClassifier(criterion = \"entropy\", max_depth=3)\n",
        "arbol3 = arbol3.fit(X_train,y_train)\n",
        "y_pred = arbol3.predict(X_test)\n",
        "dot_data = tree.export_graphviz(arbol3, out_file=None,feature_names=feature_names,class_names=target_names,filled=True, rounded=True,special_characters=True)  \n",
        "graph = graphviz.Source(dot_data)\n",
        "graph"
      ],
      "execution_count": 0,
      "outputs": []
    },
    {
      "cell_type": "code",
      "metadata": {
        "id": "5prvqI915EKs",
        "colab_type": "code",
        "outputId": "d92876b7-ab94-4b0a-989d-982bbada9d19",
        "colab": {
          "base_uri": "https://localhost:8080/",
          "height": 34
        }
      },
      "source": [
        "print(\"Accuracy:\",metrics.accuracy_score(y_test, y_pred))"
      ],
      "execution_count": 16,
      "outputs": [
        {
          "output_type": "stream",
          "text": [
            "Accuracy: 0.8571428571428571\n"
          ],
          "name": "stdout"
        }
      ]
    },
    {
      "cell_type": "markdown",
      "metadata": {
        "id": "JvGPMdP74IjQ",
        "colab_type": "text"
      },
      "source": [
        "-Podemos observar en el primer caso que obtenemos un arbol con 7 niveles. \n",
        "\n",
        "-Para modificar y que conste de 4 niveles basta con restringirselo en los parametros pasados al armar el arbol, mas precisamente el \"max_depth\" al cual setearemos con el valor indicado.\n",
        "\n",
        "-Esta decision afecta la clasificacion ya que estamos forzando al arbol a tener una extension acotada a la que naturalmente tendria, por ende bajara su precision, especificamente para este caso en casi un 5% con respecto al arbol original. \n"
      ]
    },
    {
      "cell_type": "markdown",
      "metadata": {
        "id": "bm2Pd8l_hXA1",
        "colab_type": "text"
      },
      "source": [
        "\n",
        "\n",
        "---\n",
        "\n",
        "\n",
        "## PUNTO 4\n",
        "\n",
        "**Consiga: Se provee la base de datos de los pasajeros del famoso barco que se hundiera en su viaje inaugural (archivo titanic-en.csv) con los siguientes atributos y valores posibles.**\n",
        "\n",
        "**Genere el árbol de clasificación, explore la solución dada y las posibles alternativas para obtener un nuevo árbol que clasifique “mejor”.**"
      ]
    },
    {
      "cell_type": "code",
      "metadata": {
        "id": "lo1dM5ikg0_B",
        "colab_type": "code",
        "colab": {}
      },
      "source": [
        "!rm titanic-en.csv\n",
        "!wget https://raw.githubusercontent.com/jumafernandez/BDM/master/TPs/TP05/TP0501/titanic-en.csv\n",
        "\n",
        "# Lee el archivo\n",
        "data4 = pd.read_csv(\"titanic-en.csv\") \n",
        "# Preview the first 5 lines of the loaded data \n",
        "data4.head()"
      ],
      "execution_count": 0,
      "outputs": []
    },
    {
      "cell_type": "code",
      "metadata": {
        "id": "_r4pICLchs0g",
        "colab_type": "code",
        "colab": {}
      },
      "source": [
        "\n",
        "le = preprocessing.LabelEncoder()\n",
        "for column_name in data4.columns:\n",
        "  if (data4[column_name].dtype == object) & (column_name!='survived'):\n",
        "    data4[column_name] = le.fit_transform(data4[column_name])\n",
        "    \n",
        "# Features\n",
        "feature_names = list(data4.columns)\n",
        "# Elimino survived porque es la clase\n",
        "feature_names.remove('survived')\n",
        "x4 = data4[feature_names]\n",
        "# Target\n",
        "y4 = data4.survived\n",
        "le.fit(data4['survived'])\n",
        "target_names=le.classes_\n",
        "#armo el arbol separando en 80-20 entrenamiento y testeo\n",
        "X_train, X_test, y_train, y_test = train_test_split(x4, y4, random_state=0, test_size=0.2)\n",
        "# Creo el objeto Decision Tree classifer\n",
        "arbol4 = tree.DecisionTreeClassifier()\n",
        "# Entreno el Decision Tree Classifer\n",
        "arbol4 = arbol4.fit(X_train,y_train)\n",
        "#Realizo las predicciones en función del árbol generado\n",
        "y_pred = arbol4.predict(X_test)\n",
        "# graficamos el arbol\n",
        "dot_data = tree.export_graphviz(arbol4, out_file=None,\n",
        "                                feature_names=feature_names,\n",
        "                                class_names=target_names,\n",
        "                                filled=True, rounded=True,\n",
        "                                special_characters=True)  \n",
        "# Capturo el source\n",
        "graph = graphviz.Source(dot_data)\n",
        "# Muestro el contenido de graph\n",
        "graph"
      ],
      "execution_count": 0,
      "outputs": []
    },
    {
      "cell_type": "code",
      "metadata": {
        "id": "vGm91Pvz8Ro4",
        "colab_type": "code",
        "outputId": "2497d6fe-36f2-407d-95f1-f8c2c0d6fd66",
        "colab": {
          "base_uri": "https://localhost:8080/",
          "height": 34
        }
      },
      "source": [
        "print(\"Accuracy:\",metrics.accuracy_score(y_test, y_pred))"
      ],
      "execution_count": 19,
      "outputs": [
        {
          "output_type": "stream",
          "text": [
            "Accuracy: 0.7732426303854876\n"
          ],
          "name": "stdout"
        }
      ]
    },
    {
      "cell_type": "markdown",
      "metadata": {
        "id": "hzC2ZIzEvVcf",
        "colab_type": "text"
      },
      "source": [
        "Para obtener una mejor clasificacion podemos modifcarlo de la siguiente manera:"
      ]
    },
    {
      "cell_type": "code",
      "metadata": {
        "id": "TK00QTy56rlE",
        "colab_type": "code",
        "colab": {}
      },
      "source": [
        "feature_names = list(data4.columns)\n",
        "feature_names.remove('survived')\n",
        "x4 = data4[feature_names]\n",
        "y4 = data4.survived\n",
        "le.fit(data4['survived'])\n",
        "target_names=le.classes_\n",
        "\n",
        "X_train, X_test, y_train, y_test = train_test_split(x4, y4, random_state=0, test_size=0.4)\n",
        "# Moifico parametros.\n",
        "arbol4 = tree.DecisionTreeClassifier(criterion = \"gini\",min_samples_leaf=9)\n",
        "arbol4 = arbol4.fit(X_train,y_train)\n",
        "y_pred = arbol4.predict(X_test)\n",
        "\n",
        "dot_data = tree.export_graphviz(arbol4, out_file=None,feature_names=feature_names,class_names=target_names,filled=True, rounded=True,special_characters=True)  \n",
        "graph = graphviz.Source(dot_data)\n",
        "graph"
      ],
      "execution_count": 0,
      "outputs": []
    },
    {
      "cell_type": "code",
      "metadata": {
        "id": "i5fZnESk60Kw",
        "colab_type": "code",
        "outputId": "ad8c435f-2bb7-43d8-e78b-a3fa05c30b54",
        "colab": {
          "base_uri": "https://localhost:8080/",
          "height": 34
        }
      },
      "source": [
        "print(\"Accuracy:\",metrics.accuracy_score(y_test, y_pred))"
      ],
      "execution_count": 21,
      "outputs": [
        {
          "output_type": "stream",
          "text": [
            "Accuracy: 0.7911464245175936\n"
          ],
          "name": "stdout"
        }
      ]
    },
    {
      "cell_type": "markdown",
      "metadata": {
        "id": "_NOMvJcU-kJc",
        "colab_type": "text"
      },
      "source": [
        "Duplicando el area de Test, modificando el criterio y aumentando el numero minimo de tuplas para formar una hoja se logro aumentar la presicion en un 2% con un total de 79,11%."
      ]
    },
    {
      "cell_type": "markdown",
      "metadata": {
        "id": "08DV0nsG4PEH",
        "colab_type": "text"
      },
      "source": [
        "\n",
        "\n",
        "---\n",
        "\n",
        "\n",
        "## PUNTO 5\n",
        "\n",
        "**Consigna: Un Banco de Portugal realizó una campaña de marketing en busca de clientes de plazos fijos basada en llamados telefónicos. Se provee el dataset real (bank-full.csv) con más 45000 instancias y el detalle (bank-names.txt) de los datos registrados de cada una de las personas contactadas por la entidad bancaria.**\n",
        "\n",
        "**5 a. Realice las tareas necesarias para poder procesar el dataset en\n",
        "Scikit-Learn.**"
      ]
    },
    {
      "cell_type": "code",
      "metadata": {
        "id": "W8E7ygxD4mMz",
        "colab_type": "code",
        "colab": {}
      },
      "source": [
        "!rm bank-full.csv\n",
        "!wget https://raw.githubusercontent.com/jumafernandez/BDM/master/TPs/TP05/TP0501/bank-full.csv\n",
        "\n",
        "# Lee el archivo\n",
        "data5 = pd.read_csv(\"bank-full.csv\", sep=\";\") \n",
        "# Preview the first 5 lines of the loaded data \n",
        "data5.head()"
      ],
      "execution_count": 0,
      "outputs": []
    },
    {
      "cell_type": "markdown",
      "metadata": {
        "id": "RNA_zB_E-ZhR",
        "colab_type": "text"
      },
      "source": [
        "**5 b. Luego, genere el árbol de decisión, y optimice los resultados, con el objetivo de explicar cuáles son las características más importantes que permiten identificar a una persona que accederá o no al plazo fijo. Documente los resultados.**"
      ]
    },
    {
      "cell_type": "code",
      "metadata": {
        "id": "VYl9I-s1-fY_",
        "colab_type": "code",
        "colab": {}
      },
      "source": [
        "le = preprocessing.LabelEncoder()\n",
        "for column_name in data5.columns:\n",
        "  if (data5[column_name].dtype == object) & (column_name!='y'):\n",
        "    data5[column_name] = le.fit_transform(data5[column_name])\n",
        "\n",
        "# Features\n",
        "feature_names = list(data5.columns)\n",
        "feature_names.remove('y')\n",
        "x5 = data5[feature_names]\n",
        "# Target\n",
        "y5 = data5.y\n",
        "le.fit(data5['y'])\n",
        "target_names=le.classes_\n",
        "\n",
        "# Separo en 70-30 entrenamiento y testeo\n",
        "X_train, X_test, y_train, y_test = train_test_split(x5, y5, random_state=0, test_size=0.2)\n",
        "# Creo el objeto Decision Tree classifer\n",
        "arbol5 = tree.DecisionTreeClassifier(criterion='gini', max_depth=15)\n",
        "# Entreno el Decision Tree Classifer\n",
        "arbol5 = arbol5.fit(X_train,y_train)\n",
        "#Realizo las predicciones en función del árbol generado\n",
        "y_pred = arbol5.predict(X_test)\n",
        "# graficamos el arbol\n",
        "dot_data = tree.export_graphviz(arbol5, out_file=None,\n",
        "                                feature_names=feature_names,\n",
        "                                class_names=data5.y,\n",
        "                                filled=True, rounded=True,\n",
        "                                special_characters=True)  \n",
        "# Capturo el source\n",
        "graph = graphviz.Source(dot_data)\n",
        "# Muestro el contenido de graph\n",
        "graph"
      ],
      "execution_count": 0,
      "outputs": []
    },
    {
      "cell_type": "code",
      "metadata": {
        "id": "m2KFNY-c5652",
        "colab_type": "code",
        "colab": {}
      },
      "source": [
        "# Vamos a testear el modelo\n",
        "print(\"Accuracy:\",metrics.accuracy_score(y_test, y_pred))\n",
        "# Vemos un reporte de clasificación de varias métricas\n",
        "print(metrics.classification_report(y_test, y_pred))\n",
        "print(\"cantidad de niveles: \" + str(arbol5.tree_.max_depth))"
      ],
      "execution_count": 0,
      "outputs": []
    },
    {
      "cell_type": "markdown",
      "metadata": {
        "id": "RW8mx4JW_yot",
        "colab_type": "text"
      },
      "source": [
        "Para optimizar los resultados se optó luego de una primera prueba, por limitar el numero de niveles maximos del arbol a 15 (inicialmente era de 31), cambiar el criterio a \"Gini\".\n",
        "\n",
        "Tambien se concluyo que una de las caracteristicas mas importantes para determinar el resultado es la duration de la llamada, por lo cual si ponemos esta linea cuando cargamos los features:"
      ]
    },
    {
      "cell_type": "code",
      "metadata": {
        "id": "eTUNh1XVEjM9",
        "colab_type": "code",
        "colab": {}
      },
      "source": [
        "feature_names.remove('duration')"
      ],
      "execution_count": 0,
      "outputs": []
    },
    {
      "cell_type": "markdown",
      "metadata": {
        "id": "Aq_jXbxUElIW",
        "colab_type": "text"
      },
      "source": [
        "El acurracy decaera casi un 7% con respecto al 88% inicial."
      ]
    },
    {
      "cell_type": "markdown",
      "metadata": {
        "id": "Ynuu4jxi_iYM",
        "colab_type": "text"
      },
      "source": [
        "\n",
        "\n",
        "---\n",
        "\n",
        "\n",
        "## PUNTO 6\n",
        "\n",
        "**Consiga: Se requiere clasificar a los aspirantes 2014 que abandonaron la Universidad al primer cuatrimestre del 2015 en función de las características socio-económicas recolectadas en una encuesta realizada al momento de inscripción y volcada en el dataset encuesta_universitaria.csv que aún no está depurado.**"
      ]
    },
    {
      "cell_type": "code",
      "metadata": {
        "id": "qzSBz8ltHKx1",
        "colab_type": "code",
        "colab": {}
      },
      "source": [
        "!wget https://raw.githubusercontent.com/jumafernandez/BDM/master/TPs/TP05/TP0501/encuesta_universitaria.csv\n",
        "data6 = pd.read_csv(\"encuesta_universitaria.csv\", encoding='latin_1', quotechar=\"'\") \n",
        "\n",
        "## Reemplazo Nan por Cero\n",
        "data6.loc[np.isnan(data6.Tiempo_Traslado), ['Tiempo_Traslado']] = 0\n",
        "data6.loc[np.isnan(data6.Cantidad_Grupo_Familiar), ['Cantidad_Grupo_Familiar']] = 0\n",
        "data6.loc[np.isnan(data6.Cantidad_Grupo_Familiar), ['Conocimientos_Procesador_Texto']] = 0\n",
        "data6.loc[np.isnan(data6.Cantidad_Grupo_Familiar), ['Conocimientos_Planilla_Calculo']] = 0\n",
        "data6.loc[np.isnan(data6.Cantidad_Grupo_Familiar), ['Conocimientos_Internet']] = 0\n",
        "\n",
        "data6.head()"
      ],
      "execution_count": 0,
      "outputs": []
    },
    {
      "cell_type": "markdown",
      "metadata": {
        "id": "62o8b4BCHPQA",
        "colab_type": "text"
      },
      "source": [
        "**6 a. Divida el dataset en dos partes, con proporciones del 80% y 20% del\n",
        "total de las instancias del dataset.**"
      ]
    },
    {
      "cell_type": "code",
      "metadata": {
        "id": "9BvAojF7Fhsl",
        "colab_type": "code",
        "colab": {}
      },
      "source": [
        "\t\n",
        "#target_names = ['ESTADO 1-2015']\n",
        "feature_names = list(data6.columns)\n",
        "feature_names.remove('ESTADO 1-2015')\n",
        "# Features : convierte las variables categoricas en columnas con binarios como valores posibles.\n",
        "x6 = pd.get_dummies(data6[feature_names])\n",
        "# Target\n",
        "y6 = data6['ESTADO 1-2015']\n",
        "le.fit(data6['ESTADO 1-2015'])\n",
        "target_names=le.classes_\n",
        "# Separo en 70-30 entrenamiento y testeo\n",
        "X_train, X_test_original, y_train, y_test_original = train_test_split(x6, y6, random_state=0, test_size=0.2)\n",
        "# Creo el objeto Decision Tree classifer\n",
        "arbol6 = tree.DecisionTreeClassifier(criterion='entropy')\n",
        "# Entreno el Decision Tree Classifer\n",
        "arbol6 = arbol6.fit(X_train,y_train)\n",
        "#Realizo las predicciones en función del árbol generado\n",
        "y_pred = arbol6.predict(X_test_original)\n",
        "# graficamos el arbol\n",
        "dot_data = tree.export_graphviz(arbol6, out_file=None,\n",
        "                                feature_names=x6.columns,\n",
        "                                class_names=target_names,\n",
        "                                filled=True, rounded=True,\n",
        "                                special_characters=True)  \n",
        "# Capturo el source\n",
        "graph = graphviz.Source(dot_data)\n",
        "# Muestro el contenido de graph\n",
        "graph"
      ],
      "execution_count": 0,
      "outputs": []
    },
    {
      "cell_type": "code",
      "metadata": {
        "id": "IbVm5-jDVbMl",
        "colab_type": "code",
        "colab": {
          "base_uri": "https://localhost:8080/",
          "height": 34
        },
        "outputId": "749a6381-760a-424f-f534-697e02d1f0a9"
      },
      "source": [
        "print(\"Accuracy:\",metrics.accuracy_score(y_test_original, y_pred))"
      ],
      "execution_count": 44,
      "outputs": [
        {
          "output_type": "stream",
          "text": [
            "Accuracy: 0.6106870229007634\n"
          ],
          "name": "stdout"
        }
      ]
    },
    {
      "cell_type": "markdown",
      "metadata": {
        "id": "O8sFUmlxHAGQ",
        "colab_type": "text"
      },
      "source": [
        "**6 b. Utilice el primer conjunto de instancias para generar 10 árboles\n",
        "diferentes con distintas configuraciones y conserve los resultados.**"
      ]
    },
    {
      "cell_type": "markdown",
      "metadata": {
        "id": "ZpLDUV-OGbzk",
        "colab_type": "text"
      },
      "source": [
        "**Arbol Alternativo 1**"
      ]
    },
    {
      "cell_type": "code",
      "metadata": {
        "id": "Rda-HpF9GbVa",
        "colab_type": "code",
        "outputId": "b5d76faf-dd4b-4150-d4cb-e367dd8baa4d",
        "colab": {
          "base_uri": "https://localhost:8080/",
          "height": 34
        }
      },
      "source": [
        "X_train, X_test, y_train, y_test = train_test_split(x6, y6, random_state=0, test_size=0.2)\n",
        "arbol6 = tree.DecisionTreeClassifier(criterion='entropy',max_depth=25)\n",
        "arbol6 = arbol6.fit(X_train,y_train)\n",
        "y_pred1 = arbol6.predict(X_test_original)\n",
        "dot_data = tree.export_graphviz(arbol6, out_file=None,feature_names=x6.columns,class_names=target_names,filled=True, rounded=True,special_characters=True)  \n",
        "\n",
        "print(\"Accuracy:\",metrics.accuracy_score(y_test_original, y_pred1))"
      ],
      "execution_count": 28,
      "outputs": [
        {
          "output_type": "stream",
          "text": [
            "Accuracy: 0.6225614927905004\n"
          ],
          "name": "stdout"
        }
      ]
    },
    {
      "cell_type": "markdown",
      "metadata": {
        "id": "bI0CIMZQGiSb",
        "colab_type": "text"
      },
      "source": [
        "**Arbol Alternativo 2**"
      ]
    },
    {
      "cell_type": "code",
      "metadata": {
        "id": "V41gehLRG0ad",
        "colab_type": "code",
        "outputId": "8e00d19b-0888-4b09-a017-9d4df1c74e8f",
        "colab": {
          "base_uri": "https://localhost:8080/",
          "height": 34
        }
      },
      "source": [
        "X_train, X_test, y_train, y_test = train_test_split(x6, y6, random_state=0, test_size=0.2)\n",
        "arbol6 = tree.DecisionTreeClassifier(criterion='entropy',max_depth=5)\n",
        "arbol6 = arbol6.fit(X_train,y_train)\n",
        "y_pred2 = arbol6.predict(X_test_original)\n",
        "dot_data = tree.export_graphviz(arbol6, out_file=None,feature_names=x6.columns,class_names=target_names,filled=True, rounded=True,special_characters=True)  \n",
        "\n",
        "print(\"Accuracy:\",metrics.accuracy_score(y_test_original, y_pred2))"
      ],
      "execution_count": 29,
      "outputs": [
        {
          "output_type": "stream",
          "text": [
            "Accuracy: 0.6887192536047498\n"
          ],
          "name": "stdout"
        }
      ]
    },
    {
      "cell_type": "markdown",
      "metadata": {
        "id": "XaTrLV7oGjCn",
        "colab_type": "text"
      },
      "source": [
        "**Arbol Alternativo 3**"
      ]
    },
    {
      "cell_type": "code",
      "metadata": {
        "id": "YuhNtONdG1Cy",
        "colab_type": "code",
        "outputId": "6c357ff0-6c2d-4acb-ac0d-aa5b55829cc9",
        "colab": {
          "base_uri": "https://localhost:8080/",
          "height": 34
        }
      },
      "source": [
        "X_train, X_test, y_train, y_test = train_test_split(x6, y6, random_state=0, test_size=0.4)\n",
        "arbol6 = tree.DecisionTreeClassifier(criterion='gini',min_samples_leaf=15)\n",
        "arbol6 = arbol6.fit(X_train,y_train)\n",
        "y_pred3 = arbol6.predict(X_test_original)\n",
        "dot_data = tree.export_graphviz(arbol6, out_file=None,feature_names=x6.columns,class_names=target_names,filled=True, rounded=True,special_characters=True)  \n",
        "\n",
        "print(\"Accuracy:\",metrics.accuracy_score(y_test_original, y_pred3))"
      ],
      "execution_count": 30,
      "outputs": [
        {
          "output_type": "stream",
          "text": [
            "Accuracy: 0.6522476675148431\n"
          ],
          "name": "stdout"
        }
      ]
    },
    {
      "cell_type": "markdown",
      "metadata": {
        "id": "hdHjWAoyGjhb",
        "colab_type": "text"
      },
      "source": [
        "**Arbol Alternativo 4**"
      ]
    },
    {
      "cell_type": "code",
      "metadata": {
        "id": "LeoMrGa3G1ta",
        "colab_type": "code",
        "outputId": "fe42394d-eb0c-4c21-9d09-1b0a8505375c",
        "colab": {
          "base_uri": "https://localhost:8080/",
          "height": 34
        }
      },
      "source": [
        "X_train, X_test, y_train, y_test = train_test_split(x6, y6, random_state=0, test_size=0.1)\n",
        "arbol6 = tree.DecisionTreeClassifier(criterion='gini',min_samples_leaf=40)\n",
        "arbol6 = arbol6.fit(X_train,y_train)\n",
        "y_pred4 = arbol6.predict(X_test_original)\n",
        "dot_data = tree.export_graphviz(arbol6, out_file=None,feature_names=x6.columns,class_names=target_names,filled=True, rounded=True,special_characters=True)  \n",
        "\n",
        "print(\"Accuracy:\",metrics.accuracy_score(y_test_original, y_pred4))"
      ],
      "execution_count": 31,
      "outputs": [
        {
          "output_type": "stream",
          "text": [
            "Accuracy: 0.6895674300254453\n"
          ],
          "name": "stdout"
        }
      ]
    },
    {
      "cell_type": "markdown",
      "metadata": {
        "id": "DnTRr0tuGkAX",
        "colab_type": "text"
      },
      "source": [
        "**Arbol Alternativo 5**"
      ]
    },
    {
      "cell_type": "code",
      "metadata": {
        "id": "GVXY6l6KG2ba",
        "colab_type": "code",
        "outputId": "b7c05837-dc10-4174-e71e-c3ef11dd4cd3",
        "colab": {
          "base_uri": "https://localhost:8080/",
          "height": 34
        }
      },
      "source": [
        "X_train, X_test, y_train, y_test = train_test_split(x6, y6, random_state=0, test_size=0.2)\n",
        "arbol6 = tree.DecisionTreeClassifier(criterion='gini',min_samples_leaf=10,max_leaf_nodes=30)\n",
        "arbol6 = arbol6.fit(X_train,y_train)\n",
        "y_pred5 = arbol6.predict(X_test)\n",
        "dot_data = tree.export_graphviz(arbol6, out_file=None,feature_names=x6.columns,class_names=target_names,filled=True, rounded=True,special_characters=True)  \n",
        "\n",
        "print(\"Accuracy:\",metrics.accuracy_score(y_test, y_pred5))"
      ],
      "execution_count": 32,
      "outputs": [
        {
          "output_type": "stream",
          "text": [
            "Accuracy: 0.6717557251908397\n"
          ],
          "name": "stdout"
        }
      ]
    },
    {
      "cell_type": "markdown",
      "metadata": {
        "id": "fkWp_9vPGkf4",
        "colab_type": "text"
      },
      "source": [
        "**Arbol Alternativo 6**"
      ]
    },
    {
      "cell_type": "code",
      "metadata": {
        "id": "eP2tsFgFG2_f",
        "colab_type": "code",
        "outputId": "65b84f6a-f727-4b10-8f2c-67379e399fdc",
        "colab": {
          "base_uri": "https://localhost:8080/",
          "height": 34
        }
      },
      "source": [
        "X_train, X_test, y_train, y_test = train_test_split(x6, y6, random_state=0, test_size=0.3)\n",
        "arbol6 = tree.DecisionTreeClassifier(criterion='entropy',max_depth=10,min_samples_leaf=15,max_leaf_nodes=20)\n",
        "arbol6 = arbol6.fit(X_train,y_train)\n",
        "y_pred6 = arbol6.predict(X_test_original)\n",
        "dot_data = tree.export_graphviz(arbol6, out_file=None,feature_names=x6.columns,class_names=target_names,filled=True, rounded=True,special_characters=True)  \n",
        "\n",
        "print(\"Accuracy:\",metrics.accuracy_score(y_test_original, y_pred6))"
      ],
      "execution_count": 33,
      "outputs": [
        {
          "output_type": "stream",
          "text": [
            "Accuracy: 0.6878710771840543\n"
          ],
          "name": "stdout"
        }
      ]
    },
    {
      "cell_type": "markdown",
      "metadata": {
        "id": "4unBopmoGk2r",
        "colab_type": "text"
      },
      "source": [
        "**Arbol Alternativo 7**"
      ]
    },
    {
      "cell_type": "code",
      "metadata": {
        "id": "yePgeEIYG4V9",
        "colab_type": "code",
        "outputId": "4f87319e-6f10-4938-feb4-64375ee9577b",
        "colab": {
          "base_uri": "https://localhost:8080/",
          "height": 34
        }
      },
      "source": [
        "X_train, X_test, y_train, y_test = train_test_split(x6, y6, random_state=0, test_size=0.2)\n",
        "arbol6 = tree.DecisionTreeClassifier(criterion='entropy',max_depth=20,splitter='random',min_samples_leaf=100)\n",
        "arbol6 = arbol6.fit(X_train,y_train)\n",
        "y_pred7 = arbol6.predict(X_test_original)\n",
        "dot_data = tree.export_graphviz(arbol6, out_file=None,feature_names=x6.columns,class_names=target_names,filled=True, rounded=True,special_characters=True)  \n",
        "\n",
        "print(\"Accuracy:\",metrics.accuracy_score(y_test_original, y_pred7))"
      ],
      "execution_count": 34,
      "outputs": [
        {
          "output_type": "stream",
          "text": [
            "Accuracy: 0.6802374893977947\n"
          ],
          "name": "stdout"
        }
      ]
    },
    {
      "cell_type": "markdown",
      "metadata": {
        "id": "tX4DEpJEGubQ",
        "colab_type": "text"
      },
      "source": [
        "**Arbol Alternativo 8**"
      ]
    },
    {
      "cell_type": "code",
      "metadata": {
        "id": "CUd42hxRG42y",
        "colab_type": "code",
        "outputId": "0807d780-ecf2-4904-df20-a2bfccc6851b",
        "colab": {
          "base_uri": "https://localhost:8080/",
          "height": 34
        }
      },
      "source": [
        "X_train, X_test, y_train, y_test = train_test_split(x6, y6, random_state=0, test_size=0.4)\n",
        "arbol6 = tree.DecisionTreeClassifier(criterion='gini',splitter='random',min_samples_leaf=10,min_samples_split=5)\n",
        "arbol6 = arbol6.fit(X_train,y_train)\n",
        "y_pred8 = arbol6.predict(X_test_original)\n",
        "dot_data = tree.export_graphviz(arbol6, out_file=None,feature_names=x6.columns,class_names=target_names,filled=True, rounded=True,special_characters=True)  \n",
        "\n",
        "print(\"Accuracy:\",metrics.accuracy_score(y_test_original, y_pred8))"
      ],
      "execution_count": 35,
      "outputs": [
        {
          "output_type": "stream",
          "text": [
            "Accuracy: 0.628498727735369\n"
          ],
          "name": "stdout"
        }
      ]
    },
    {
      "cell_type": "markdown",
      "metadata": {
        "id": "bdM3RbrgGv0q",
        "colab_type": "text"
      },
      "source": [
        "**Arbol Alternativo 9**"
      ]
    },
    {
      "cell_type": "code",
      "metadata": {
        "id": "clcw_s5vG5XG",
        "colab_type": "code",
        "outputId": "1fc9c80f-c76f-43a7-8606-0764f7864eeb",
        "colab": {
          "base_uri": "https://localhost:8080/",
          "height": 34
        }
      },
      "source": [
        "X_train, X_test, y_train, y_test = train_test_split(x6, y6, random_state=0, test_size=0.5)\n",
        "arbol6 = tree.DecisionTreeClassifier(criterion='gini',max_features=7)\n",
        "arbol6 = arbol6.fit(X_train,y_train)\n",
        "y_pred9 = arbol6.predict(X_test_original)\n",
        "dot_data = tree.export_graphviz(arbol6, out_file=None,feature_names=x6.columns,class_names=target_names,filled=True, rounded=True,special_characters=True)  \n",
        "\n",
        "print(\"Accuracy:\",metrics.accuracy_score(y_test_original, y_pred9))"
      ],
      "execution_count": 36,
      "outputs": [
        {
          "output_type": "stream",
          "text": [
            "Accuracy: 0.6013570822731128\n"
          ],
          "name": "stdout"
        }
      ]
    },
    {
      "cell_type": "markdown",
      "metadata": {
        "id": "LM3g_T4GGxoh",
        "colab_type": "text"
      },
      "source": [
        "**Arbol Alternativo 10**"
      ]
    },
    {
      "cell_type": "code",
      "metadata": {
        "id": "hnX5Ws_FG52O",
        "colab_type": "code",
        "outputId": "350fb4fd-21c4-4119-e474-f0f1f52d67cb",
        "colab": {
          "base_uri": "https://localhost:8080/",
          "height": 34
        }
      },
      "source": [
        "X_train, X_test, y_train, y_test = train_test_split(x6, y6, random_state=0, test_size=0.2)\n",
        "arbol6 = tree.DecisionTreeClassifier(criterion='entropy',random_state=49,class_weight='balanced')\n",
        "arbol6 = arbol6.fit(X_train,y_train)\n",
        "y_pred10 = arbol6.predict(X_test_original)\n",
        "dot_data = tree.export_graphviz(arbol6, out_file=None,feature_names=x6.columns,class_names=target_names,filled=True, rounded=True,special_characters=True)  \n",
        "\n",
        "print(\"Accuracy:\",metrics.accuracy_score(y_test_original, y_pred10))"
      ],
      "execution_count": 37,
      "outputs": [
        {
          "output_type": "stream",
          "text": [
            "Accuracy: 0.6081424936386769\n"
          ],
          "name": "stdout"
        }
      ]
    },
    {
      "cell_type": "markdown",
      "metadata": {
        "id": "G_F0iY3CXSdH",
        "colab_type": "text"
      },
      "source": [
        "**6.c. Luego, genere un nuevo árbol aplicando, a partir de los resultados,\n",
        "un sistema de votación en el que el valor de la variable objetivo del\n",
        "árbol resultante estará dado por el valor más frecuente adoptado por\n",
        "los árboles originales.**"
      ]
    },
    {
      "cell_type": "code",
      "metadata": {
        "id": "6tJrApMLZUBj",
        "colab_type": "code",
        "colab": {}
      },
      "source": [
        "#en y_pred_total estara la votacion resultante\n",
        "y_pred_total=[]\n",
        "#recorro todos los y_predN (que tienen la misma longitud)\n",
        "for x in range(0,len(y_pred10)) :\n",
        "  abandono = 0\n",
        "  activo = 0\n",
        "  #aumento los contadores a partir de lo que me da cada uno\n",
        "  if (y_pred1[x]=='ACTIVO') :\n",
        "    activo= activo + 1\n",
        "  else:\n",
        "    abandono = abandono +1\n",
        "  \n",
        "  if (y_pred2[x]=='ACTIVO') :\n",
        "    activo= activo + 1\n",
        "  else:\n",
        "    abandono = abandono +1\n",
        "    \n",
        "  if (y_pred3[x]=='ACTIVO') :\n",
        "    activo= activo + 1\n",
        "  else:\n",
        "    abandono = abandono +1  \n",
        "  \n",
        "  if (y_pred4[x]=='ACTIVO') :\n",
        "    activo= activo + 1\n",
        "  else:\n",
        "    abandono = abandono +1\n",
        "    \n",
        "  if (y_pred5[x]=='ACTIVO') :\n",
        "    activo= activo + 1\n",
        "  else:\n",
        "    abandono = abandono +1\n",
        "  \n",
        "  if (y_pred6[x]=='ACTIVO') :\n",
        "    activo= activo + 1\n",
        "  else:\n",
        "    abandono = abandono +1\n",
        "  \n",
        "  if (y_pred7[x]=='ACTIVO') :\n",
        "    activo= activo + 1\n",
        "  else:\n",
        "    abandono = abandono +1  \n",
        "   \n",
        "  if (y_pred8[x]=='ACTIVO') :\n",
        "    activo= activo + 1\n",
        "  else:\n",
        "    abandono = abandono +1 \n",
        "  \n",
        "  if (y_pred9[x]=='ACTIVO') :\n",
        "    activo= activo + 1\n",
        "  else:\n",
        "    abandono = abandono +1\n",
        "  \n",
        "  if (y_pred10[x]=='ACTIVO') :\n",
        "    activo= activo + 1\n",
        "  else:\n",
        "    abandono = abandono +1\n",
        "    #el mas votado sera el que ira para ese numero de indice en el y_pred_total.\n",
        "  if (activo>=abandono) :\n",
        "    y_pred_total.append('ACTIVO')\n",
        "  else:\n",
        "    y_pred_total.append('ABANDONO')\n",
        "  \n",
        "    "
      ],
      "execution_count": 0,
      "outputs": []
    },
    {
      "cell_type": "markdown",
      "metadata": {
        "id": "4MIfbFu4rlTr",
        "colab_type": "text"
      },
      "source": [
        "**6.d Valide el árbol resultante con el 20% restante del dataset original.**"
      ]
    },
    {
      "cell_type": "code",
      "metadata": {
        "id": "M-QR3irVs2rX",
        "colab_type": "code",
        "colab": {
          "base_uri": "https://localhost:8080/",
          "height": 34
        },
        "outputId": "26d47146-6113-4d3a-a6d2-8fc794045bf0"
      },
      "source": [
        "#y_pred_total es la votacion de los 10 arboles alternativos.\n",
        "print(\"Accuracy:\",metrics.accuracy_score(y_test_original, y_pred_total))"
      ],
      "execution_count": 39,
      "outputs": [
        {
          "output_type": "stream",
          "text": [
            "Accuracy: 0.6810856658184903\n"
          ],
          "name": "stdout"
        }
      ]
    },
    {
      "cell_type": "markdown",
      "metadata": {
        "id": "iTttGo0lr30A",
        "colab_type": "text"
      },
      "source": [
        "**6.e Documente las acciones realizadas y el conocimiento más importante\n",
        "generado a partir del árbol de decisión resultante.**"
      ]
    },
    {
      "cell_type": "markdown",
      "metadata": {
        "id": "5HtjOJA6r0I7",
        "colab_type": "text"
      },
      "source": [
        "Luego de las acciones realizadas se concluye que en lugar de mejorar el porcentaje de Accuracy, se quedo en el rango esperado, el mismo de los 10 arboles alternativos (de 60 a 69) siendo este de 67. Podria este mejorar con configuraciones particulares del arbol que mejoren este promedio hecho por votacion."
      ]
    },
    {
      "cell_type": "markdown",
      "metadata": {
        "id": "SsMb9Dffib-L",
        "colab_type": "text"
      },
      "source": [
        "\n",
        "---\n",
        "\n",
        "## PUNTO 7\n",
        "### Medidas de evaluación para técnicas de clasificación:\n",
        "\n",
        "En función de la clasificación realizada, complete las siguientes actividades:\n",
        "\n",
        "#### A. ACCURACY\n",
        "**1. Ahora, calcule el accuracy de ambos modelos.**\n",
        "\n",
        "Tratando por “ambos” a los dos principales árboles del punto 6, el accuracy de cada uno de ellos es:\n",
        "\n",
        "Normal: 0.5911789652247668\n",
        "\n",
        "Votación: 0.6810856658184903\n",
        "\n",
        "**2. ¿Cómo se interpreta la métrica anterior?**\n",
        "\n",
        "Podemos interpretar que a medida que se iteren más pruebas de árboles con distintas configuraciones y comparándolo con los datos reales, irá mejorando la eficiencia obteniendo un mejor árbol por cada vez.\n",
        "\n",
        "**3. ¿Qué aporta el accuracy?**\n",
        "\n",
        "Es el porcentaje de tuplas del conjunto de prueba (x_test_original) que fueron correctamente clasificadas por el modelo de árbol hecho en cada punto.\n",
        "\n",
        "\n",
        "#### B. RECALL/PRECISION.\n",
        "**1. Calcule las métricas recall y precisión para ambos modelos.**\n"
      ]
    },
    {
      "cell_type": "code",
      "metadata": {
        "id": "xyf8txbWig4M",
        "colab_type": "code",
        "colab": {
          "base_uri": "https://localhost:8080/",
          "height": 51
        },
        "outputId": "66c3ad3f-2db4-4305-8cda-9a659a66c20f"
      },
      "source": [
        "# Calculo la presicion y recall para el y_pred original\n",
        "print(precision_recall_fscore_support(y_test, y_pred, average='macro'))\n",
        "\n",
        "# Calculo la presicion y recall para el y_pred_total, es decir, el resultado de la votacion\n",
        "print(precision_recall_fscore_support(y_test, y_pred_total, average='macro'))\n",
        "\n",
        "#los primeros dos resultados son la precision y el recall respextivamente."
      ],
      "execution_count": 56,
      "outputs": [
        {
          "output_type": "stream",
          "text": [
            "(0.5711773128111679, 0.5683290641009622, 0.569168487801383, None)\n",
            "(0.6481830688583695, 0.6170920279895039, 0.6199095953741366, None)\n"
          ],
          "name": "stdout"
        }
      ]
    },
    {
      "cell_type": "markdown",
      "metadata": {
        "id": "qmKA3G68rJCu",
        "colab_type": "text"
      },
      "source": [
        "\n",
        "Entonces queda:\n",
        "\n",
        "**-Árbol Original**\n",
        "\n",
        "Precisión: 0.571 \n",
        "\n",
        "Recall: 0.568\n",
        "\n",
        "**-Árbol Votación**\n",
        "\n",
        "Precisión: 0.648 \n",
        "\n",
        "Recall: 0.617\n",
        "\n",
        "**2. ¿Cuál es la diferencia entre ambas?**\n",
        "\n",
        "Se observa una mejora en las dos medidas por parte de la votación. Para la precision de un 7% y para recall de un 5%.\n",
        "\n",
        "**3. ¿Qué aspectos aborda cada una?**\n",
        "\n",
        "La precisión es el porcentaje de todas las instancias relevantes dividido entre las instancias obtenidas.\n",
        "\n",
        "El Recall es el porcentaje de resultados relevantes totales clasificados correctamente por el algoritmo. \n",
        "\n",
        "\n",
        "#### C. MATRIZ DE CONFUSIÓN.\n",
        "**1. ¿En qué casos el modelo clasifica mal?**\n",
        "\n",
        "Clasifica mal si los datos de entrada originales que se quieren clasificar tienen una desviación demasiado grande hacia la asignacion de una clase (de todas las posibles).\n",
        "En ese caso la medida de evaluacion puede indicar un buen desempeño del arbol aunque no sea asi.\n",
        "\n",
        "**Ejemplo:** \n",
        "*Si hay 90 muestras de una clase A y  10 de la clase B, la medida seguramente indicará que se hizo una clasificacion con una gran preferencia por la clase A. Si clasifica todas las muestras como clase A su precisión será del 90%, porcentaje que en principio puede resultar alto, pero que deja con un alto costo de error para con la otra clase, con la cual tuvo un 100% de error al no clasificar ninguna bien.*"
      ]
    }
  ]
}