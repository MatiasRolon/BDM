{
  "nbformat": 4,
  "nbformat_minor": 0,
  "metadata": {
    "colab": {
      "name": "Guia-Arboles-Clasificacion.ipynb",
      "provenance": [],
      "include_colab_link": true
    },
    "kernelspec": {
      "name": "python3",
      "display_name": "Python 3"
    }
  },
  "cells": [
    {
      "cell_type": "markdown",
      "metadata": {
        "id": "view-in-github",
        "colab_type": "text"
      },
      "source": [
        "<a href=\"https://colab.research.google.com/github/jumafernandez/BDM/blob/master/Guias/Guia_Arboles_Clasificacion.ipynb\" target=\"_parent\"><img src=\"https://colab.research.google.com/assets/colab-badge.svg\" alt=\"Open In Colab\"/></a>"
      ]
    },
    {
      "cell_type": "markdown",
      "metadata": {
        "id": "R7t49mkzKf-9",
        "colab_type": "text"
      },
      "source": [
        "## Árboles de decisión con Scikit Learn (Aprendizaje supervisado)\n",
        "\n",
        "Vamos a trabajar con _árboles de clasificación_ a partir del dataset iris,\n",
        "con el que ya hemos trabajado algunas cuestiones de análisis exploratorio.\n",
        "<br />\n",
        "<br />\n",
        "### Trabajando con datos en Scikit Learn (Python)\n",
        "Para iniciar debemos importar la librería _iris_ que está incluida en Scikit Learn. También podríamos exportarla desde un archivo csv como veníamos trabajando. \n",
        "<br />\n",
        "<br />\n",
        "Para importarla desde un archivo:"
      ]
    },
    {
      "cell_type": "code",
      "metadata": {
        "id": "i1FPARAPKfFv",
        "colab_type": "code",
        "colab": {}
      },
      "source": [
        "carpeta_iris = \"C:\\Users\\unlu\\Anaconda3\\lib\\site-packages\\sklearn\\datasets\\data\\iris.csv\"\n"
      ],
      "execution_count": 0,
      "outputs": []
    },
    {
      "cell_type": "markdown",
      "metadata": {
        "id": "2XEsDMU1LS-p",
        "colab_type": "text"
      },
      "source": [
        "En cambio, para importarla desde Scikit Learn debemos traer la librería y cargarla:"
      ]
    },
    {
      "cell_type": "code",
      "metadata": {
        "id": "YfsIoe-wKfwc",
        "colab_type": "code",
        "colab": {
          "base_uri": "https://localhost:8080/",
          "height": 1000
        },
        "outputId": "1f303f4e-78e5-416a-f308-482ac87f5a8b"
      },
      "source": [
        "# Importamos el dataset iris de la librerías sklearn.datasets\n",
        "from sklearn.datasets import load_iris\n",
        "\n",
        "# Iris será un objeto \"bunch\" que es básicamente un diccionario de Python con un conjunto de claves\n",
        "iris = load_iris()\n",
        "\n",
        "print(\"Podemos pedir una descripción del dataset: \")\n",
        "print(iris.DESCR)\n"
      ],
      "execution_count": 5,
      "outputs": [
        {
          "output_type": "stream",
          "text": [
            "Podemos pedir una descripción del dataset: \n",
            ".. _iris_dataset:\n",
            "\n",
            "Iris plants dataset\n",
            "--------------------\n",
            "\n",
            "**Data Set Characteristics:**\n",
            "\n",
            "    :Number of Instances: 150 (50 in each of three classes)\n",
            "    :Number of Attributes: 4 numeric, predictive attributes and the class\n",
            "    :Attribute Information:\n",
            "        - sepal length in cm\n",
            "        - sepal width in cm\n",
            "        - petal length in cm\n",
            "        - petal width in cm\n",
            "        - class:\n",
            "                - Iris-Setosa\n",
            "                - Iris-Versicolour\n",
            "                - Iris-Virginica\n",
            "                \n",
            "    :Summary Statistics:\n",
            "\n",
            "    ============== ==== ==== ======= ===== ====================\n",
            "                    Min  Max   Mean    SD   Class Correlation\n",
            "    ============== ==== ==== ======= ===== ====================\n",
            "    sepal length:   4.3  7.9   5.84   0.83    0.7826\n",
            "    sepal width:    2.0  4.4   3.05   0.43   -0.4194\n",
            "    petal length:   1.0  6.9   3.76   1.76    0.9490  (high!)\n",
            "    petal width:    0.1  2.5   1.20   0.76    0.9565  (high!)\n",
            "    ============== ==== ==== ======= ===== ====================\n",
            "\n",
            "    :Missing Attribute Values: None\n",
            "    :Class Distribution: 33.3% for each of 3 classes.\n",
            "    :Creator: R.A. Fisher\n",
            "    :Donor: Michael Marshall (MARSHALL%PLU@io.arc.nasa.gov)\n",
            "    :Date: July, 1988\n",
            "\n",
            "The famous Iris database, first used by Sir R.A. Fisher. The dataset is taken\n",
            "from Fisher's paper. Note that it's the same as in R, but not as in the UCI\n",
            "Machine Learning Repository, which has two wrong data points.\n",
            "\n",
            "This is perhaps the best known database to be found in the\n",
            "pattern recognition literature.  Fisher's paper is a classic in the field and\n",
            "is referenced frequently to this day.  (See Duda & Hart, for example.)  The\n",
            "data set contains 3 classes of 50 instances each, where each class refers to a\n",
            "type of iris plant.  One class is linearly separable from the other 2; the\n",
            "latter are NOT linearly separable from each other.\n",
            "\n",
            ".. topic:: References\n",
            "\n",
            "   - Fisher, R.A. \"The use of multiple measurements in taxonomic problems\"\n",
            "     Annual Eugenics, 7, Part II, 179-188 (1936); also in \"Contributions to\n",
            "     Mathematical Statistics\" (John Wiley, NY, 1950).\n",
            "   - Duda, R.O., & Hart, P.E. (1973) Pattern Classification and Scene Analysis.\n",
            "     (Q327.D83) John Wiley & Sons.  ISBN 0-471-22361-1.  See page 218.\n",
            "   - Dasarathy, B.V. (1980) \"Nosing Around the Neighborhood: A New System\n",
            "     Structure and Classification Rule for Recognition in Partially Exposed\n",
            "     Environments\".  IEEE Transactions on Pattern Analysis and Machine\n",
            "     Intelligence, Vol. PAMI-2, No. 1, 67-71.\n",
            "   - Gates, G.W. (1972) \"The Reduced Nearest Neighbor Rule\".  IEEE Transactions\n",
            "     on Information Theory, May 1972, 431-433.\n",
            "   - See also: 1988 MLC Proceedings, 54-64.  Cheeseman et al\"s AUTOCLASS II\n",
            "     conceptual clustering system finds 3 classes in the data.\n",
            "   - Many, many more ...\n",
            "Podemos ver los nombres de las features del dataset ['sepal length (cm)', 'sepal width (cm)', 'petal length (cm)', 'petal width (cm)']\n",
            "La variable objetivo['setosa' 'versicolor' 'virginica']\n"
          ],
          "name": "stdout"
        }
      ]
    },
    {
      "cell_type": "markdown",
      "metadata": {
        "id": "8ZZlkBSNNUVS",
        "colab_type": "text"
      },
      "source": [
        "Entre otros atributos, como los que se consultan a continuación:"
      ]
    },
    {
      "cell_type": "code",
      "metadata": {
        "id": "ILM6DgxDNT3L",
        "colab_type": "code",
        "colab": {
          "base_uri": "https://localhost:8080/",
          "height": 68
        },
        "outputId": "c77fa92d-fceb-45f6-8706-fa62d994251e"
      },
      "source": [
        "print(\"Podemos ver los nombres de las features del dataset \" + str(iris.feature_names))\n",
        "\n",
        "print(\"Los posibles valores de la variable objetivo\" + str(iris.target_names))\n",
        "\n",
        "print(\"Donde está almacenado el archivo: \" + iris.filename)"
      ],
      "execution_count": 10,
      "outputs": [
        {
          "output_type": "stream",
          "text": [
            "Podemos ver los nombres de las features del dataset ['sepal length (cm)', 'sepal width (cm)', 'petal length (cm)', 'petal width (cm)']\n",
            "Los posibles valores de la variable objetivo['setosa' 'versicolor' 'virginica']\n",
            "Donde está almacenado el archivo: /usr/local/lib/python3.6/dist-packages/sklearn/datasets/data/iris.csv\n"
          ],
          "name": "stdout"
        }
      ]
    },
    {
      "cell_type": "markdown",
      "metadata": {
        "id": "MSMr_KrrOaj8",
        "colab_type": "text"
      },
      "source": [
        "Scikit Learn tiene la particularidad que separa los valores de las features de la clase, a través de dos estructuras de datos diferentes:"
      ]
    },
    {
      "cell_type": "code",
      "metadata": {
        "id": "V_SniPYmOnJw",
        "colab_type": "code",
        "colab": {
          "base_uri": "https://localhost:8080/",
          "height": 187
        },
        "outputId": "10641a58-fdcd-4ee9-d4f2-32305ffbca63"
      },
      "source": [
        "print(\"Podemos ver los valores de las features -Por ejemplo, las primeras 5 instancias-:\\n\" + str(iris.data[0:5,]))\n",
        "print(\"\\nLa matriz de features es del tipo: + \" + str(type(iris.data[0:5,])))\n",
        "print(\"\\nY por otro lado, los valores de la variable objetivo \" + str(iris.target[0:5]))"
      ],
      "execution_count": 30,
      "outputs": [
        {
          "output_type": "stream",
          "text": [
            "Podemos ver los valores de las features -Por ejemplo, las primeras 5 instancias-:\n",
            "[[5.1 3.5 1.4 0.2]\n",
            " [4.9 3.  1.4 0.2]\n",
            " [4.7 3.2 1.3 0.2]\n",
            " [4.6 3.1 1.5 0.2]\n",
            " [5.  3.6 1.4 0.2]]\n",
            "\n",
            "La matriz de features es del tipo: + <class 'numpy.ndarray'>\n",
            "\n",
            "Y por otro lado, los valores de la variable objetivo [0 0 0 0 0]\n"
          ],
          "name": "stdout"
        }
      ]
    },
    {
      "cell_type": "markdown",
      "metadata": {
        "id": "weNFL-cbSWRV",
        "colab_type": "text"
      },
      "source": [
        "## Árboles de Clasificación en Scikit Learn\n",
        "\n",
        "A continuación, vamos a explorar como entrenar un árbol de clasificación, analizar el modelo entrenado y evaluarlo:"
      ]
    },
    {
      "cell_type": "code",
      "metadata": {
        "id": "3Pn5tRAMSm74",
        "colab_type": "code",
        "colab": {}
      },
      "source": [
        "# Importamos tree, donde están implementados las técnicas relativas a árboles para trabajar con J-48 (Árboles de Decisión)\n",
        "from sklearn import tree\n",
        "\n",
        "# Instanciamos el árbol como un árbol de clasificación (existen varias técnicas basadas en árboles)\n",
        "# Definimos que el criterio a utilizar para el entrenamiento es la entropia (Podría ser Gini, por ejemplo)\n",
        "arbol = tree.DecisionTreeClassifier(criterion='entropy')\n"
      ],
      "execution_count": 0,
      "outputs": []
    },
    {
      "cell_type": "markdown",
      "metadata": {
        "id": "Ira9JnK1Tawp",
        "colab_type": "text"
      },
      "source": [
        "Ahora vamos a entrenar el árbol, para ello le pasamos los datos de los _features_ y el _target_:"
      ]
    },
    {
      "cell_type": "code",
      "metadata": {
        "id": "5b96OJUFToz9",
        "colab_type": "code",
        "colab": {}
      },
      "source": [
        "# Ahora vamos a entrenar el dato con el método fit -le pasamos los X e Y\n",
        "# X e Y (X=atributos e Y=target)\n",
        "arbol = arbol.fit(iris.data, iris.target)\n"
      ],
      "execution_count": 0,
      "outputs": []
    },
    {
      "cell_type": "markdown",
      "metadata": {
        "id": "Chey6zV5UCbu",
        "colab_type": "text"
      },
      "source": [
        "También puedo graficar el árbol resultante:"
      ]
    },
    {
      "cell_type": "code",
      "metadata": {
        "id": "m14-aI67UE4R",
        "colab_type": "code",
        "colab": {
          "base_uri": "https://localhost:8080/",
          "height": 269
        },
        "outputId": "df021dad-6c40-47b9-cb63-c92ec49edac4"
      },
      "source": [
        "grafico=tree.plot_tree(arbol)"
      ],
      "execution_count": 36,
      "outputs": [
        {
          "output_type": "display_data",
          "data": {
            "image/png": "[encoded data removed]",
            "text/plain": [
              "<Figure size 432x288 with 1 Axes>"
            ]
          },
          "metadata": {
            "tags": []
          }
        }
      ]
    }
  ]
}